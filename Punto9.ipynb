{
  "nbformat": 4,
  "nbformat_minor": 0,
  "metadata": {
    "colab": {
      "provenance": []
    },
    "kernelspec": {
      "name": "python3",
      "display_name": "Python 3"
    },
    "language_info": {
      "name": "python"
    }
  },
  "cells": [
    {
      "cell_type": "markdown",
      "source": [
        "## PUNTO 9\n",
        "\n",
        "#### Escriba un programa que reciba el nombre en minúsculas de un país de America y retorne la ciudad capital, si el país no pertenece al continente debe arrojar país no identificado.\n",
        "\n",
        "###### Paso 1\n",
        "\n",
        "Definir la variable pais, en la que se le solicita al usuario que ingrese en minuscula el pais del continente americano que quiera"
      ],
      "metadata": {
        "id": "EpALu0FWh9J4"
      }
    },
    {
      "cell_type": "code",
      "execution_count": null,
      "metadata": {
        "colab": {
          "base_uri": "https://localhost:8080/"
        },
        "id": "66xpUQhcg6Um",
        "outputId": "fd457ae7-f997-4d10-cf62-0c29d6a971e1"
      },
      "outputs": [
        {
          "name": "stdout",
          "output_type": "stream",
          "text": [
            "Pon un pais de america en MINUSCULA y con tildes: burkina faso\n"
          ]
        }
      ],
      "source": [
        "pais= input(\"Pon un pais de america en MINUSCULA y con tildes: \")\n",
        "\n"
      ]
    },
    {
      "cell_type": "markdown",
      "source": [
        "###### Paso 2\n",
        "\n",
        "Se crea una lista de texto en la que se ponen todas los paises del contitente con sus respectivas capitales:\n",
        "\n",
        "\n",
        "| Pais | Capital |\n",
        "|----------|----------|\n",
        "| Antigua y Barbuda| Saint John's|\n",
        "| Argentina| Buenos Aires|\n",
        "| Bahamas\t| Nasáu|\n",
        "| Barbados | Bridgetown|\n",
        "| Belice\t| Belmopán\n",
        "| Bolivia | Sucre\n",
        "| Brasil\t| Brasilia\n",
        "| Canadá\t| Ottawa\n",
        "| Chile\t| Santiago de Chile\n",
        "| Colombia\t| Bogotá\n",
        "| Costa Rica\t| San José\n",
        "| Cuba | La Habana\n",
        "| Dominica |\tRoseau\n",
        "| Ecuador |\tQuito\n",
        "| El Salvador |\tSan Salvador\n",
        "| Estados Unidos |\tWashington D. C.\n",
        "| Granada |\tSaint George\n",
        "| Guatemala |\tCiudad de Guatemala\n",
        "| Guayana Francesa | Cayena\n",
        "| Guyana |\tGeorgetown\n",
        "| Haití |\tPuerto Príncipe\n",
        "| Honduras | Tegucigalpa\n",
        "| Jamaica |\tKingston\n",
        "| México |\tCiudad de México\n",
        "| Nicaragua |\tManagua\n",
        "| Panamá |\tPanamá\n",
        "| Paraguay |\tAsunción\n",
        "| Perú |\tLima\n",
        "| República Dominicana |\tSanto Domingo\n",
        "| San Cristóbal y Nieves |\tBasseterre\n",
        "| San Vicente y las Granadinas |\tKingstown\n",
        "| Santa Lucía |\tCastries\n",
        "| Surinam |\tParamaribo\n",
        "| Trinidad y Tobago |\tPuerto España\n",
        "| Uruguay |\tMontevideo\n",
        "| Venezuela |\tCaracas"
      ],
      "metadata": {
        "id": "XMe7m-vli3Lo"
      }
    },
    {
      "cell_type": "markdown",
      "source": [
        "###### Paso 3\n",
        "Ahora creamos una linea de codigo de match case, en orden alfabetico en la que si el pais es igual al primero de la lista imprima su capital, y si no pruebe con el segundo, asi sucesivamente hasta probar los 36. Si no esta dentro de la lista el codigo imprimira que es un país no identificado"
      ],
      "metadata": {
        "id": "LEwHn3tNo8tY"
      }
    },
    {
      "cell_type": "code",
      "source": [
        "match pais:\n",
        "  case \"antigua y barbuda\":\n",
        "    print(\"Saint John's\")\n",
        "  case \"argentina\":\n",
        "    print(\"Buenos Aires\")\n",
        "  case(\"bahamas\"):\n",
        "    print(\"Nasáu\")\n",
        "  case(\"barbados\"):\n",
        "    print(\"Bridgetown\")\n",
        "  case(\"belice\"):\n",
        "    print(\"Belmopán\")\n",
        "  case(\"bolivia\"):\n",
        "    print(\"Sucre\")\n",
        "  case(\"brasil\"):\n",
        "    print(\"Brasilia\")\n",
        "  case(\"canadá\"):\n",
        "    print(\"Ottawa\")\n",
        "  case(\"chile\"):\n",
        "    print(\"Santiago de Chile\")\n",
        "  case(\"colombia\"):\n",
        "    print(\"Bogotá\")\n",
        "  case(\"costa rica\"):\n",
        "    print(\"San José\")\n",
        "  case(\"cuba\"):\n",
        "    print(\"La Habana\")\n",
        "  case(\"dominica\"):\n",
        "    print(\"Roseau\")\n",
        "  case(\"ecuador\"):\n",
        "    print(\"Quito\")\n",
        "  case(\"el salvador\"):\n",
        "    print(\"San Salvador\")\n",
        "  case \"estados unidos\":\n",
        "    print(\"Washington D. C.\")\n",
        "  case \"granada\":\n",
        "    print(\"Saint George\")\n",
        "  case \"guatemala\":\n",
        "    print(\"Ciudad de Guatemala\")\n",
        "  case \"guayana francesa\":\n",
        "    print(\"Cayena\")\n",
        "  case \"guyana\":\n",
        "    print(\"Georgetown\")\n",
        "  case \"haití\":\n",
        "    print(\"Puerto Príncipe\")\n",
        "  case \"honduras\":\n",
        "    print(\"Tegucigalpa\")\n",
        "  case \"jamaica\":\n",
        "    print(\"Kingston\")\n",
        "  case \"méxico\":\n",
        "    print(\"Ciudad de México\")\n",
        "  case \"nicaragua\":\n",
        "    print(\"Managua\")\n",
        "  case \"panamá\":\n",
        "    print(\"Saint John's\")\n",
        "  case \"paraguay\":\n",
        "    print(\"Asunción\")\n",
        "  case \"perú\":\n",
        "    print(\"Lima\")\n",
        "  case \"república dominicana\":\n",
        "    print(\"Santo Domingo\")\n",
        "  case \"san cristóbal y nieves\":\n",
        "    print(\"Basseterre\")\n",
        "  case \"san vicente y las granadinas\":\n",
        "    print(\"Kingstown\")\n",
        "  case \"santa lucía\":\n",
        "    print(\"Castries\")\n",
        "  case \"surinam\":\n",
        "    print(\"Paramaribo\")\n",
        "  case \"trinidad y tobago\":\n",
        "    print(\"Puerto España\")\n",
        "  case \"uruguay\":\n",
        "    print(\"Montevideo\")\n",
        "  case \"venezuela\":\n",
        "    print(\"Caracas\")\n",
        "  case _:\n",
        "    print(\"País no identificado, o lo escribiste mal mi bro\")"
      ],
      "metadata": {
        "colab": {
          "base_uri": "https://localhost:8080/"
        },
        "id": "x_WnGqCApSMP",
        "outputId": "810c6372-ab64-4432-971f-13b5c9bb6ec7"
      },
      "execution_count": null,
      "outputs": [
        {
          "output_type": "stream",
          "name": "stdout",
          "text": [
            "País no identificado\n"
          ]
        }
      ]
    }
  ]
}