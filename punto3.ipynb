{
  "nbformat": 4,
  "nbformat_minor": 0,
  "metadata": {
    "colab": {
      "provenance": []
    },
    "kernelspec": {
      "name": "python3",
      "display_name": "Python 3"
    },
    "language_info": {
      "name": "python"
    }
  },
  "cells": [
    {
      "cell_type": "markdown",
      "source": [
        "## PUNTO 3\n",
        "\n",
        "Realice un programa que lea un número enteros y determine si es par o impar.\n",
        "\n",
        "Se le pide al usuario que ingrese un número entero y si su residuo al dividirlo entre 2 es 0, es par, y si da 1 es un número impar.\n"
      ],
      "metadata": {
        "id": "bLNTT-pdlfzY"
      }
    },
    {
      "cell_type": "code",
      "execution_count": 1,
      "metadata": {
        "colab": {
          "base_uri": "https://localhost:8080/"
        },
        "id": "0mLYxkoEk50T",
        "outputId": "baee5210-1976-4023-fbeb-97c0b917b31b"
      },
      "outputs": [
        {
          "output_type": "stream",
          "name": "stdout",
          "text": [
            "vamo a ve si el número que proporcionas es par o impar >:)\n",
            "Ingresa el numero que quieras >:)))) : 5\n",
            "Suave, tu número es impar xd\n"
          ]
        }
      ],
      "source": [
        "print(\"vamo a ve si el número que proporcionas es par o impar >:)\")\n",
        "n=int(input(\"Ingresa el numero que quieras >:)))) : \"))\n",
        "\n",
        "if n % 2 ==0:\n",
        "    print(\"Pillado, ese numerito como que es par >:)\")\n",
        "else:\n",
        "    print(\"Suave, tu número es impar xd\")\n",
        "\n"
      ]
    }
  ]
}