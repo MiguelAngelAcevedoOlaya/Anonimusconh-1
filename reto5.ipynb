{
  "nbformat": 4,
  "nbformat_minor": 0,
  "metadata": {
    "colab": {
      "provenance": []
    },
    "kernelspec": {
      "name": "python3",
      "display_name": "Python 3"
    },
    "language_info": {
      "name": "python"
    }
  },
  "cells": [
    {
      "cell_type": "markdown",
      "source": [
        "## PUNTO 5\n",
        "\n",
        "Realice un programa que lea tres números reales y determine si la suma de los dos primeros es mayor, menor o igual que el tercer número.\n",
        "\n",
        "Se le pide al usuario que ingrese los 3 números que desee, y si establece un codigo if else, que estbalezca si la suma de los dos primeros es mayor,igual o menor y asi imprimir de acuerdo a lo que sea.\n"
      ],
      "metadata": {
        "id": "KpTgizzHnDBD"
      }
    },
    {
      "cell_type": "code",
      "execution_count": null,
      "metadata": {
        "id": "KPHFfiE8mgEM"
      },
      "outputs": [],
      "source": [
        "print(\"Vamos a ver si la suma de los primeros numeros que pongas serán mayor al tercero >:)\")\n",
        "\n",
        "a=float(input(\"Ingresa tu primer número: \"))\n",
        "b=float(input(\"Ingresa tu segundo número: \"))\n",
        "c=float(input(\"Ingresa tu tercer número: \"))\n",
        "\n",
        "if (a+b)>c:\n",
        "    print(\"La suma de los primeros números dos son mayores al tercero\")\n",
        "elif (a+b)==c:\n",
        "    print(\"La suma de los primeros dos número es igual al tecero\")\n",
        "else:\n",
        "    print(\"La suma de los primeros dos números no es igual al tercero\")"
      ]
    }
  ]
}